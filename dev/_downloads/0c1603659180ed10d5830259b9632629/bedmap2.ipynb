{
  "cells": [
    {
      "cell_type": "code",
      "execution_count": null,
      "metadata": {
        "collapsed": false
      },
      "outputs": [],
      "source": [
        "%matplotlib inline"
      ]
    },
    {
      "cell_type": "markdown",
      "metadata": {},
      "source": [
        "\nBedmap2\n=======\n\nBedmap2 is a suite of gridded products describing surface elevation,\nice-thickness, the sea floor and subglacial bed elevation of the Antarctic\nsouth of 60\u00b0S [BEDMAP2]_. Each dataset is projected in Antarctic Polar\nStereographic projection, latitude of true scale -71 degrees south, datum\nWGS84. All heights are in metres relative to sea level as defined by the g104c\ngeoid. The datasets are downloaded as ``tiff`` files and loaded into\na :class:`xarray.Dataset` object.\n\n"
      ]
    },
    {
      "cell_type": "code",
      "execution_count": null,
      "metadata": {
        "collapsed": false
      },
      "outputs": [],
      "source": [
        "import rockhound as rh\nimport matplotlib.pyplot as plt\nimport cmocean\n\n# Load the ice thickness grid\nbedmap = rh.fetch_bedmap2(datasets=[\"thickness\"])\nprint(bedmap)\n\nplt.figure(figsize=(8, 7))\nax = plt.subplot(111)\npc = bedmap.thickness.plot.pcolormesh(\n    ax=ax, cmap=cmocean.cm.ice, cbar_kwargs=dict(pad=0.01, aspect=30)\n)\nax.set_title(\"Bedmap2 Antarctica Ice Thickness\")\nplt.tight_layout()\nplt.show()"
      ]
    }
  ],
  "metadata": {
    "kernelspec": {
      "display_name": "Python 3",
      "language": "python",
      "name": "python3"
    },
    "language_info": {
      "codemirror_mode": {
        "name": "ipython",
        "version": 3
      },
      "file_extension": ".py",
      "mimetype": "text/x-python",
      "name": "python",
      "nbconvert_exporter": "python",
      "pygments_lexer": "ipython3",
      "version": "3.6.10"
    }
  },
  "nbformat": 4,
  "nbformat_minor": 0
}