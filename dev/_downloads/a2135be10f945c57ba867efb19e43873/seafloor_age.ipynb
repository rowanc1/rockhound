{
  "cells": [
    {
      "cell_type": "code",
      "execution_count": null,
      "metadata": {
        "collapsed": false
      },
      "outputs": [],
      "source": [
        "%matplotlib inline"
      ]
    },
    {
      "cell_type": "markdown",
      "metadata": {},
      "source": [
        "\nAge of the Oceanic Lithosphere\n==============================\n\nGlobal grids of the age of the oceanic lithosphere produced by [Muller2008]_.\nAvailable in 2 and 6 arc-minute resolutions and include grids of the age\nuncertainty.\nMore information at the\n`NOAA NCEI <https://www.ngdc.noaa.gov/mgg/ocean_age/ocean_age_2008.html>`__ and\n`EarthByte\n<http://www.earthbyte.org/age-spreading-rates-and-spreading-asymmetry-of-the-worlds-ocean-crust/>`__\nwebsites.\n\n"
      ]
    },
    {
      "cell_type": "code",
      "execution_count": null,
      "metadata": {
        "collapsed": false
      },
      "outputs": [],
      "source": [
        "import rockhound as rh\nimport matplotlib.pyplot as plt\nimport cmocean\n\n# Load the age and uncertainty grids in the default 6 arc-minute resolution\ngrid = rh.fetch_seafloor_age()\nprint(grid)\n\n# Plot the age grid.\n# We're not using a map projection to speed up the plotting but this NOT\n# recommended.\nplt.figure(figsize=(9, 5))\nax = plt.subplot(111)\ngrid.age.plot.pcolormesh(\n    cmap=cmocean.cm.thermal_r, cbar_kwargs=dict(pad=0.01, aspect=30), ax=ax\n)\nax.set_title(\"Age of Oceanic Lithosphere\")\nplt.tight_layout()\nplt.show()"
      ]
    }
  ],
  "metadata": {
    "kernelspec": {
      "display_name": "Python 3",
      "language": "python",
      "name": "python3"
    },
    "language_info": {
      "codemirror_mode": {
        "name": "ipython",
        "version": 3
      },
      "file_extension": ".py",
      "mimetype": "text/x-python",
      "name": "python",
      "nbconvert_exporter": "python",
      "pygments_lexer": "ipython3",
      "version": "3.6.10"
    }
  },
  "nbformat": 4,
  "nbformat_minor": 0
}